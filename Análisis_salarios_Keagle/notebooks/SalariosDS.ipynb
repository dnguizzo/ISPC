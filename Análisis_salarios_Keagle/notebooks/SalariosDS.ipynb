{
  "cells": [
    {
      "cell_type": "markdown",
      "metadata": {
        "colab_type": "text",
        "id": "view-in-github"
      },
      "source": [
        "<a href=\"https://colab.research.google.com/github/Agusgal16/Procesamiento-de-Datos/blob/main/SalariosDS.ipynb\" target=\"_parent\"><img src=\"https://colab.research.google.com/assets/colab-badge.svg\" alt=\"Open In Colab\"/></a>"
      ]
    },
    {
      "attachments": {},
      "cell_type": "markdown",
      "metadata": {},
      "source": [
        "## Análisis de los salarios en Ciencia de Datos"
      ]
    },
    {
      "attachments": {},
      "cell_type": "markdown",
      "metadata": {},
      "source": [
        "Importamos librerias con las que se va a trabajar"
      ]
    },
    {
      "cell_type": "code",
      "execution_count": null,
      "metadata": {
        "id": "_9dcezdpahVN"
      },
      "outputs": [],
      "source": [
        "import pandas as pd\n",
        "import matplotlib.pyplot as plt"
      ]
    },
    {
      "attachments": {},
      "cell_type": "markdown",
      "metadata": {},
      "source": [
        "Cargamos el archivo"
      ]
    },
    {
      "cell_type": "code",
      "execution_count": null,
      "metadata": {
        "id": "Fe6-t-Tta6FV"
      },
      "outputs": [],
      "source": [
        "datos = pd.read_csv('salarios.csv')"
      ]
    },
    {
      "attachments": {},
      "cell_type": "markdown",
      "metadata": {},
      "source": [
        "Imprimimos las primeras 5 filas"
      ]
    },
    {
      "cell_type": "code",
      "execution_count": null,
      "metadata": {
        "colab": {
          "base_uri": "https://localhost:8080/"
        },
        "id": "G9kGXmRWhHax",
        "outputId": "8144e352-4743-42d2-f3af-b34e5d7057e8"
      },
      "outputs": [
        {
          "name": "stdout",
          "output_type": "stream",
          "text": [
            "    año  experiencia   modalidad                       posicion  salario  \\\n",
            "0  2023       Senior   Full Time            Cientifico de datos    80000   \n",
            "1  2023  Semi Senior  Contractor  Ingeniero de Machine Learning    30000   \n",
            "2  2023  Semi Senior  Contractor  Ingeniero de Machine Learning    25500   \n",
            "3  2023       Senior   Full Time            Cientifico de datos   175000   \n",
            "4  2023       Senior   Full Time            Cientifico de datos   120000   \n",
            "\n",
            "  moneda  salario_en_dolares localidad esquema localidad_empresa  \\\n",
            "0    EUR               85847        ES  Remoto                ES   \n",
            "1    USD               30000        US  Remoto                US   \n",
            "2    USD               25500        US  Remoto                US   \n",
            "3    USD              175000        CA  Remoto                CA   \n",
            "4    USD              120000        CA  Remoto                CA   \n",
            "\n",
            "  tamaño_empresa  \n",
            "0              L  \n",
            "1              S  \n",
            "2              S  \n",
            "3              M  \n",
            "4              M  \n"
          ]
        }
      ],
      "source": [
        "print(datos.head(5))"
      ]
    },
    {
      "attachments": {},
      "cell_type": "markdown",
      "metadata": {},
      "source": [
        "Consulta: Mostrar la cantidad total de registros en el DataFrame"
      ]
    },
    {
      "cell_type": "code",
      "execution_count": null,
      "metadata": {
        "colab": {
          "base_uri": "https://localhost:8080/"
        },
        "id": "2JOjbrkHgHhX",
        "outputId": "2d25348e-7f2c-4d47-e200-d7b4f851dc99"
      },
      "outputs": [
        {
          "name": "stdout",
          "output_type": "stream",
          "text": [
            "Cantidad total de registros: 1000\n"
          ]
        }
      ],
      "source": [
        "total_registros = len(datos)\n",
        "print(\"Cantidad total de registros:\", total_registros)"
      ]
    },
    {
      "cell_type": "markdown",
      "metadata": {},
      "source": [
        "Conocemos las columnas"
      ]
    },
    {
      "cell_type": "code",
      "execution_count": null,
      "metadata": {
        "colab": {
          "base_uri": "https://localhost:8080/"
        },
        "id": "Jiy-VXJan4fW",
        "outputId": "7324655f-2c5b-4f5c-9a70-e40214dcab39"
      },
      "outputs": [
        {
          "data": {
            "text/plain": [
              "Index(['año', 'experiencia', 'modalidad', 'posicion', 'salario', 'moneda',\n",
              "       'salario_en_dolares', 'localidad', 'esquema', 'localidad_empresa',\n",
              "       'tamaño_empresa'],\n",
              "      dtype='object')"
            ]
          },
          "execution_count": 6,
          "metadata": {},
          "output_type": "execute_result"
        }
      ],
      "source": [
        "datos.columns"
      ]
    },
    {
      "attachments": {},
      "cell_type": "markdown",
      "metadata": {},
      "source": [
        "Obtenemos Información del DataSet"
      ]
    },
    {
      "cell_type": "code",
      "execution_count": null,
      "metadata": {
        "colab": {
          "base_uri": "https://localhost:8080/"
        },
        "id": "SDNIiBP-n641",
        "outputId": "fae43820-5f89-4106-d7f3-2113b6ec28fe"
      },
      "outputs": [
        {
          "data": {
            "text/plain": [
              "<bound method DataFrame.info of       año  experiencia   modalidad                       posicion  salario  \\\n",
              "0    2023       Senior   Full Time            Cientifico de datos    80000   \n",
              "1    2023  Semi Senior  Contractor  Ingeniero de Machine Learning    30000   \n",
              "2    2023  Semi Senior  Contractor  Ingeniero de Machine Learning    25500   \n",
              "3    2023       Senior   Full Time            Cientifico de datos   175000   \n",
              "4    2023       Senior   Full Time            Cientifico de datos   120000   \n",
              "..    ...          ...         ...                            ...      ...   \n",
              "995  2023       Senior   Full Time  Ingeniero de Machine Learning   142200   \n",
              "996  2023  Semi Senior   Full Time            Cientifico de datos    40000   \n",
              "997  2023       Senior   Full Time            Cientifico de datos  1000000   \n",
              "998  2023       Senior   Full Time              Analista de datos   180180   \n",
              "999  2023       Senior   Full Time              Analista de datos   106020   \n",
              "\n",
              "    moneda  salario_en_dolares localidad     esquema localidad_empresa  \\\n",
              "0      EUR               85847        ES      Remoto                ES   \n",
              "1      USD               30000        US      Remoto                US   \n",
              "2      USD               25500        US      Remoto                US   \n",
              "3      USD              175000        CA      Remoto                CA   \n",
              "4      USD              120000        CA      Remoto                CA   \n",
              "..     ...                 ...       ...         ...               ...   \n",
              "995    USD              142200        US  Presencial                US   \n",
              "996    USD               40000        FR     Hibrido                FR   \n",
              "997    THB               29453        TH     Hibrido                TH   \n",
              "998    USD              180180        US  Presencial                US   \n",
              "999    USD              106020        US  Presencial                US   \n",
              "\n",
              "    tamaño_empresa  \n",
              "0                L  \n",
              "1                S  \n",
              "2                S  \n",
              "3                M  \n",
              "4                M  \n",
              "..             ...  \n",
              "995              M  \n",
              "996              L  \n",
              "997              M  \n",
              "998              M  \n",
              "999              M  \n",
              "\n",
              "[1000 rows x 11 columns]>"
            ]
          },
          "execution_count": 7,
          "metadata": {},
          "output_type": "execute_result"
        }
      ],
      "source": [
        "datos.info"
      ]
    },
    {
      "cell_type": "markdown",
      "metadata": {
        "id": "BLAXYgK412Pu"
      },
      "source": [
        "  Cálculo de métricas"
      ]
    },
    {
      "cell_type": "code",
      "execution_count": null,
      "metadata": {
        "colab": {
          "base_uri": "https://localhost:8080/"
        },
        "id": "NqTWVCoWy3yH",
        "outputId": "4f5411fc-0889-47d5-9499-8e97bb0c5973"
      },
      "outputs": [
        {
          "name": "stdout",
          "output_type": "stream",
          "text": [
            "Métricas de salario en dolares en un año de trabajo:\n",
            "Media del salario: 148574.183\n",
            "Mediana del salario: 144432.5\n",
            "Salario máximo: 423834\n",
            "Salario mínimo: 9289\n",
            "Desviación estándar del salario: 61006.202704790354\n"
          ]
        }
      ],
      "source": [
        "# Calcular la media del salario\n",
        "media_salario = datos['salario_en_dolares'].mean()\n",
        "\n",
        "# Calcular la mediana del salario\n",
        "mediana_salario = datos['salario_en_dolares'].median()\n",
        "\n",
        "# Calcular el salario máximo\n",
        "max_salario = datos['salario_en_dolares'].max()\n",
        "\n",
        "# Calcular el salario mínimo\n",
        "min_salario = datos['salario_en_dolares'].min()\n",
        "\n",
        "# Calcular la desviación estándar del salario\n",
        "std_salario = datos['salario_en_dolares'].std()\n",
        "\n",
        "# Mostrar las métricas calculadas\n",
        "print(\"Métricas de salario en dolares en un año de trabajo:\")\n",
        "print(\"Media del salario:\", media_salario)\n",
        "print(\"Mediana del salario:\", mediana_salario)\n",
        "print(\"Salario máximo:\", max_salario)\n",
        "print(\"Salario mínimo:\", min_salario)\n",
        "print(\"Desviación estándar del salario:\", std_salario)"
      ]
    },
    {
      "attachments": {},
      "cell_type": "markdown",
      "metadata": {},
      "source": [
        "Consultamos los datos por experiencia: Semi Senior"
      ]
    },
    {
      "cell_type": "code",
      "execution_count": null,
      "metadata": {
        "colab": {
          "base_uri": "https://localhost:8080/",
          "height": 731
        },
        "id": "8P-y1Jwnr_cd",
        "outputId": "cb2a2aa6-72aa-403f-b1e3-913cedb67d57"
      },
      "outputs": [
        {
          "data": {
            "text/html": [
              "\n",
              "  <div id=\"df-6efbdcf0-22e1-4185-a2be-bd449f9ad66e\">\n",
              "    <div class=\"colab-df-container\">\n",
              "      <div>\n",
              "<style scoped>\n",
              "    .dataframe tbody tr th:only-of-type {\n",
              "        vertical-align: middle;\n",
              "    }\n",
              "\n",
              "    .dataframe tbody tr th {\n",
              "        vertical-align: top;\n",
              "    }\n",
              "\n",
              "    .dataframe thead th {\n",
              "        text-align: right;\n",
              "    }\n",
              "</style>\n",
              "<table border=\"1\" class=\"dataframe\">\n",
              "  <thead>\n",
              "    <tr style=\"text-align: right;\">\n",
              "      <th></th>\n",
              "      <th>año</th>\n",
              "      <th>experiencia</th>\n",
              "      <th>modalidad</th>\n",
              "      <th>posicion</th>\n",
              "      <th>salario</th>\n",
              "      <th>moneda</th>\n",
              "      <th>salario_en_dolares</th>\n",
              "      <th>localidad</th>\n",
              "      <th>esquema</th>\n",
              "      <th>localidad_empresa</th>\n",
              "      <th>tamaño_empresa</th>\n",
              "    </tr>\n",
              "  </thead>\n",
              "  <tbody>\n",
              "    <tr>\n",
              "      <th>1</th>\n",
              "      <td>2023</td>\n",
              "      <td>Semi Senior</td>\n",
              "      <td>Contractor</td>\n",
              "      <td>Ingeniero de Machine Learning</td>\n",
              "      <td>30000</td>\n",
              "      <td>USD</td>\n",
              "      <td>30000</td>\n",
              "      <td>US</td>\n",
              "      <td>Remoto</td>\n",
              "      <td>US</td>\n",
              "      <td>S</td>\n",
              "    </tr>\n",
              "    <tr>\n",
              "      <th>2</th>\n",
              "      <td>2023</td>\n",
              "      <td>Semi Senior</td>\n",
              "      <td>Contractor</td>\n",
              "      <td>Ingeniero de Machine Learning</td>\n",
              "      <td>25500</td>\n",
              "      <td>USD</td>\n",
              "      <td>25500</td>\n",
              "      <td>US</td>\n",
              "      <td>Remoto</td>\n",
              "      <td>US</td>\n",
              "      <td>S</td>\n",
              "    </tr>\n",
              "    <tr>\n",
              "      <th>19</th>\n",
              "      <td>2023</td>\n",
              "      <td>Semi Senior</td>\n",
              "      <td>Full Time</td>\n",
              "      <td>Analista de datos</td>\n",
              "      <td>150000</td>\n",
              "      <td>USD</td>\n",
              "      <td>150000</td>\n",
              "      <td>US</td>\n",
              "      <td>Remoto</td>\n",
              "      <td>US</td>\n",
              "      <td>M</td>\n",
              "    </tr>\n",
              "    <tr>\n",
              "      <th>20</th>\n",
              "      <td>2023</td>\n",
              "      <td>Semi Senior</td>\n",
              "      <td>Full Time</td>\n",
              "      <td>Analista de datos</td>\n",
              "      <td>110000</td>\n",
              "      <td>USD</td>\n",
              "      <td>110000</td>\n",
              "      <td>US</td>\n",
              "      <td>Remoto</td>\n",
              "      <td>US</td>\n",
              "      <td>M</td>\n",
              "    </tr>\n",
              "    <tr>\n",
              "      <th>35</th>\n",
              "      <td>2023</td>\n",
              "      <td>Semi Senior</td>\n",
              "      <td>Full Time</td>\n",
              "      <td>Ingeniero de datos</td>\n",
              "      <td>162500</td>\n",
              "      <td>USD</td>\n",
              "      <td>162500</td>\n",
              "      <td>US</td>\n",
              "      <td>Presencial</td>\n",
              "      <td>US</td>\n",
              "      <td>M</td>\n",
              "    </tr>\n",
              "    <tr>\n",
              "      <th>...</th>\n",
              "      <td>...</td>\n",
              "      <td>...</td>\n",
              "      <td>...</td>\n",
              "      <td>...</td>\n",
              "      <td>...</td>\n",
              "      <td>...</td>\n",
              "      <td>...</td>\n",
              "      <td>...</td>\n",
              "      <td>...</td>\n",
              "      <td>...</td>\n",
              "      <td>...</td>\n",
              "    </tr>\n",
              "    <tr>\n",
              "      <th>969</th>\n",
              "      <td>2023</td>\n",
              "      <td>Semi Senior</td>\n",
              "      <td>Full Time</td>\n",
              "      <td>Investigador de datos</td>\n",
              "      <td>125000</td>\n",
              "      <td>USD</td>\n",
              "      <td>125000</td>\n",
              "      <td>US</td>\n",
              "      <td>Presencial</td>\n",
              "      <td>US</td>\n",
              "      <td>M</td>\n",
              "    </tr>\n",
              "    <tr>\n",
              "      <th>971</th>\n",
              "      <td>2022</td>\n",
              "      <td>Semi Senior</td>\n",
              "      <td>Full Time</td>\n",
              "      <td>Analista de datos</td>\n",
              "      <td>48000</td>\n",
              "      <td>BRL</td>\n",
              "      <td>9289</td>\n",
              "      <td>BR</td>\n",
              "      <td>Remoto</td>\n",
              "      <td>BR</td>\n",
              "      <td>M</td>\n",
              "    </tr>\n",
              "    <tr>\n",
              "      <th>988</th>\n",
              "      <td>2023</td>\n",
              "      <td>Semi Senior</td>\n",
              "      <td>Full Time</td>\n",
              "      <td>Ingeniero de Machine Learning</td>\n",
              "      <td>200000</td>\n",
              "      <td>USD</td>\n",
              "      <td>200000</td>\n",
              "      <td>US</td>\n",
              "      <td>Presencial</td>\n",
              "      <td>US</td>\n",
              "      <td>M</td>\n",
              "    </tr>\n",
              "    <tr>\n",
              "      <th>989</th>\n",
              "      <td>2023</td>\n",
              "      <td>Semi Senior</td>\n",
              "      <td>Full Time</td>\n",
              "      <td>Ingeniero de Machine Learning</td>\n",
              "      <td>175000</td>\n",
              "      <td>USD</td>\n",
              "      <td>175000</td>\n",
              "      <td>US</td>\n",
              "      <td>Presencial</td>\n",
              "      <td>US</td>\n",
              "      <td>M</td>\n",
              "    </tr>\n",
              "    <tr>\n",
              "      <th>996</th>\n",
              "      <td>2023</td>\n",
              "      <td>Semi Senior</td>\n",
              "      <td>Full Time</td>\n",
              "      <td>Cientifico de datos</td>\n",
              "      <td>40000</td>\n",
              "      <td>USD</td>\n",
              "      <td>40000</td>\n",
              "      <td>FR</td>\n",
              "      <td>Hibrido</td>\n",
              "      <td>FR</td>\n",
              "      <td>L</td>\n",
              "    </tr>\n",
              "  </tbody>\n",
              "</table>\n",
              "<p>189 rows × 11 columns</p>\n",
              "</div>\n",
              "      <button class=\"colab-df-convert\" onclick=\"convertToInteractive('df-6efbdcf0-22e1-4185-a2be-bd449f9ad66e')\"\n",
              "              title=\"Convert this dataframe to an interactive table.\"\n",
              "              style=\"display:none;\">\n",
              "        \n",
              "  <svg xmlns=\"http://www.w3.org/2000/svg\" height=\"24px\"viewBox=\"0 0 24 24\"\n",
              "       width=\"24px\">\n",
              "    <path d=\"M0 0h24v24H0V0z\" fill=\"none\"/>\n",
              "    <path d=\"M18.56 5.44l.94 2.06.94-2.06 2.06-.94-2.06-.94-.94-2.06-.94 2.06-2.06.94zm-11 1L8.5 8.5l.94-2.06 2.06-.94-2.06-.94L8.5 2.5l-.94 2.06-2.06.94zm10 10l.94 2.06.94-2.06 2.06-.94-2.06-.94-.94-2.06-.94 2.06-2.06.94z\"/><path d=\"M17.41 7.96l-1.37-1.37c-.4-.4-.92-.59-1.43-.59-.52 0-1.04.2-1.43.59L10.3 9.45l-7.72 7.72c-.78.78-.78 2.05 0 2.83L4 21.41c.39.39.9.59 1.41.59.51 0 1.02-.2 1.41-.59l7.78-7.78 2.81-2.81c.8-.78.8-2.07 0-2.86zM5.41 20L4 18.59l7.72-7.72 1.47 1.35L5.41 20z\"/>\n",
              "  </svg>\n",
              "      </button>\n",
              "      \n",
              "  <style>\n",
              "    .colab-df-container {\n",
              "      display:flex;\n",
              "      flex-wrap:wrap;\n",
              "      gap: 12px;\n",
              "    }\n",
              "\n",
              "    .colab-df-convert {\n",
              "      background-color: #E8F0FE;\n",
              "      border: none;\n",
              "      border-radius: 50%;\n",
              "      cursor: pointer;\n",
              "      display: none;\n",
              "      fill: #1967D2;\n",
              "      height: 32px;\n",
              "      padding: 0 0 0 0;\n",
              "      width: 32px;\n",
              "    }\n",
              "\n",
              "    .colab-df-convert:hover {\n",
              "      background-color: #E2EBFA;\n",
              "      box-shadow: 0px 1px 2px rgba(60, 64, 67, 0.3), 0px 1px 3px 1px rgba(60, 64, 67, 0.15);\n",
              "      fill: #174EA6;\n",
              "    }\n",
              "\n",
              "    [theme=dark] .colab-df-convert {\n",
              "      background-color: #3B4455;\n",
              "      fill: #D2E3FC;\n",
              "    }\n",
              "\n",
              "    [theme=dark] .colab-df-convert:hover {\n",
              "      background-color: #434B5C;\n",
              "      box-shadow: 0px 1px 3px 1px rgba(0, 0, 0, 0.15);\n",
              "      filter: drop-shadow(0px 1px 2px rgba(0, 0, 0, 0.3));\n",
              "      fill: #FFFFFF;\n",
              "    }\n",
              "  </style>\n",
              "\n",
              "      <script>\n",
              "        const buttonEl =\n",
              "          document.querySelector('#df-6efbdcf0-22e1-4185-a2be-bd449f9ad66e button.colab-df-convert');\n",
              "        buttonEl.style.display =\n",
              "          google.colab.kernel.accessAllowed ? 'block' : 'none';\n",
              "\n",
              "        async function convertToInteractive(key) {\n",
              "          const element = document.querySelector('#df-6efbdcf0-22e1-4185-a2be-bd449f9ad66e');\n",
              "          const dataTable =\n",
              "            await google.colab.kernel.invokeFunction('convertToInteractive',\n",
              "                                                     [key], {});\n",
              "          if (!dataTable) return;\n",
              "\n",
              "          const docLinkHtml = 'Like what you see? Visit the ' +\n",
              "            '<a target=\"_blank\" href=https://colab.research.google.com/notebooks/data_table.ipynb>data table notebook</a>'\n",
              "            + ' to learn more about interactive tables.';\n",
              "          element.innerHTML = '';\n",
              "          dataTable['output_type'] = 'display_data';\n",
              "          await google.colab.output.renderOutput(dataTable, element);\n",
              "          const docLink = document.createElement('div');\n",
              "          docLink.innerHTML = docLinkHtml;\n",
              "          element.appendChild(docLink);\n",
              "        }\n",
              "      </script>\n",
              "    </div>\n",
              "  </div>\n",
              "  "
            ],
            "text/plain": [
              "      año  experiencia   modalidad                       posicion  salario  \\\n",
              "1    2023  Semi Senior  Contractor  Ingeniero de Machine Learning    30000   \n",
              "2    2023  Semi Senior  Contractor  Ingeniero de Machine Learning    25500   \n",
              "19   2023  Semi Senior   Full Time              Analista de datos   150000   \n",
              "20   2023  Semi Senior   Full Time              Analista de datos   110000   \n",
              "35   2023  Semi Senior   Full Time             Ingeniero de datos   162500   \n",
              "..    ...          ...         ...                            ...      ...   \n",
              "969  2023  Semi Senior   Full Time          Investigador de datos   125000   \n",
              "971  2022  Semi Senior   Full Time              Analista de datos    48000   \n",
              "988  2023  Semi Senior   Full Time  Ingeniero de Machine Learning   200000   \n",
              "989  2023  Semi Senior   Full Time  Ingeniero de Machine Learning   175000   \n",
              "996  2023  Semi Senior   Full Time            Cientifico de datos    40000   \n",
              "\n",
              "    moneda  salario_en_dolares localidad     esquema localidad_empresa  \\\n",
              "1      USD               30000        US      Remoto                US   \n",
              "2      USD               25500        US      Remoto                US   \n",
              "19     USD              150000        US      Remoto                US   \n",
              "20     USD              110000        US      Remoto                US   \n",
              "35     USD              162500        US  Presencial                US   \n",
              "..     ...                 ...       ...         ...               ...   \n",
              "969    USD              125000        US  Presencial                US   \n",
              "971    BRL                9289        BR      Remoto                BR   \n",
              "988    USD              200000        US  Presencial                US   \n",
              "989    USD              175000        US  Presencial                US   \n",
              "996    USD               40000        FR     Hibrido                FR   \n",
              "\n",
              "    tamaño_empresa  \n",
              "1                S  \n",
              "2                S  \n",
              "19               M  \n",
              "20               M  \n",
              "35               M  \n",
              "..             ...  \n",
              "969              M  \n",
              "971              M  \n",
              "988              M  \n",
              "989              M  \n",
              "996              L  \n",
              "\n",
              "[189 rows x 11 columns]"
            ]
          },
          "execution_count": 9,
          "metadata": {},
          "output_type": "execute_result"
        }
      ],
      "source": [
        "datos.loc[datos.experiencia=='Semi Senior']"
      ]
    },
    {
      "attachments": {},
      "cell_type": "markdown",
      "metadata": {},
      "source": [
        "Filtramos los datos por experiencia y título\n"
      ]
    },
    {
      "cell_type": "code",
      "execution_count": null,
      "metadata": {
        "colab": {
          "base_uri": "https://localhost:8080/",
          "height": 357
        },
        "id": "4uxt9E8Z1zla",
        "outputId": "c0cfb099-3f87-48e2-e10d-c90ac72f1d59"
      },
      "outputs": [
        {
          "data": {
            "text/html": [
              "\n",
              "  <div id=\"df-55a1c2ad-e41c-4fbb-b33a-622e9132c752\">\n",
              "    <div class=\"colab-df-container\">\n",
              "      <div>\n",
              "<style scoped>\n",
              "    .dataframe tbody tr th:only-of-type {\n",
              "        vertical-align: middle;\n",
              "    }\n",
              "\n",
              "    .dataframe tbody tr th {\n",
              "        vertical-align: top;\n",
              "    }\n",
              "\n",
              "    .dataframe thead th {\n",
              "        text-align: right;\n",
              "    }\n",
              "</style>\n",
              "<table border=\"1\" class=\"dataframe\">\n",
              "  <thead>\n",
              "    <tr style=\"text-align: right;\">\n",
              "      <th></th>\n",
              "      <th>año</th>\n",
              "      <th>experiencia</th>\n",
              "      <th>modalidad</th>\n",
              "      <th>posicion</th>\n",
              "      <th>salario</th>\n",
              "      <th>moneda</th>\n",
              "      <th>salario_en_dolares</th>\n",
              "      <th>localidad</th>\n",
              "      <th>esquema</th>\n",
              "      <th>localidad_empresa</th>\n",
              "      <th>tamaño_empresa</th>\n",
              "    </tr>\n",
              "  </thead>\n",
              "  <tbody>\n",
              "    <tr>\n",
              "      <th>80</th>\n",
              "      <td>2023</td>\n",
              "      <td>Semi Senior</td>\n",
              "      <td>Full Time</td>\n",
              "      <td>Cientifico de datos</td>\n",
              "      <td>510000</td>\n",
              "      <td>HKD</td>\n",
              "      <td>65062</td>\n",
              "      <td>HK</td>\n",
              "      <td>Presencial</td>\n",
              "      <td>HK</td>\n",
              "      <td>L</td>\n",
              "    </tr>\n",
              "    <tr>\n",
              "      <th>156</th>\n",
              "      <td>2023</td>\n",
              "      <td>Semi Senior</td>\n",
              "      <td>Full Time</td>\n",
              "      <td>Cientifico de datos</td>\n",
              "      <td>1700000</td>\n",
              "      <td>INR</td>\n",
              "      <td>20670</td>\n",
              "      <td>IN</td>\n",
              "      <td>Remoto</td>\n",
              "      <td>IN</td>\n",
              "      <td>L</td>\n",
              "    </tr>\n",
              "    <tr>\n",
              "      <th>181</th>\n",
              "      <td>2023</td>\n",
              "      <td>Semi Senior</td>\n",
              "      <td>Full Time</td>\n",
              "      <td>Cientifico de datos</td>\n",
              "      <td>55000</td>\n",
              "      <td>GBP</td>\n",
              "      <td>66837</td>\n",
              "      <td>GB</td>\n",
              "      <td>Presencial</td>\n",
              "      <td>GB</td>\n",
              "      <td>M</td>\n",
              "    </tr>\n",
              "    <tr>\n",
              "      <th>182</th>\n",
              "      <td>2023</td>\n",
              "      <td>Semi Senior</td>\n",
              "      <td>Full Time</td>\n",
              "      <td>Cientifico de datos</td>\n",
              "      <td>45000</td>\n",
              "      <td>GBP</td>\n",
              "      <td>54685</td>\n",
              "      <td>GB</td>\n",
              "      <td>Presencial</td>\n",
              "      <td>GB</td>\n",
              "      <td>M</td>\n",
              "    </tr>\n",
              "    <tr>\n",
              "      <th>336</th>\n",
              "      <td>2023</td>\n",
              "      <td>Semi Senior</td>\n",
              "      <td>Full Time</td>\n",
              "      <td>Cientifico de datos</td>\n",
              "      <td>93918</td>\n",
              "      <td>USD</td>\n",
              "      <td>93918</td>\n",
              "      <td>US</td>\n",
              "      <td>Remoto</td>\n",
              "      <td>US</td>\n",
              "      <td>M</td>\n",
              "    </tr>\n",
              "  </tbody>\n",
              "</table>\n",
              "</div>\n",
              "      <button class=\"colab-df-convert\" onclick=\"convertToInteractive('df-55a1c2ad-e41c-4fbb-b33a-622e9132c752')\"\n",
              "              title=\"Convert this dataframe to an interactive table.\"\n",
              "              style=\"display:none;\">\n",
              "        \n",
              "  <svg xmlns=\"http://www.w3.org/2000/svg\" height=\"24px\"viewBox=\"0 0 24 24\"\n",
              "       width=\"24px\">\n",
              "    <path d=\"M0 0h24v24H0V0z\" fill=\"none\"/>\n",
              "    <path d=\"M18.56 5.44l.94 2.06.94-2.06 2.06-.94-2.06-.94-.94-2.06-.94 2.06-2.06.94zm-11 1L8.5 8.5l.94-2.06 2.06-.94-2.06-.94L8.5 2.5l-.94 2.06-2.06.94zm10 10l.94 2.06.94-2.06 2.06-.94-2.06-.94-.94-2.06-.94 2.06-2.06.94z\"/><path d=\"M17.41 7.96l-1.37-1.37c-.4-.4-.92-.59-1.43-.59-.52 0-1.04.2-1.43.59L10.3 9.45l-7.72 7.72c-.78.78-.78 2.05 0 2.83L4 21.41c.39.39.9.59 1.41.59.51 0 1.02-.2 1.41-.59l7.78-7.78 2.81-2.81c.8-.78.8-2.07 0-2.86zM5.41 20L4 18.59l7.72-7.72 1.47 1.35L5.41 20z\"/>\n",
              "  </svg>\n",
              "      </button>\n",
              "      \n",
              "  <style>\n",
              "    .colab-df-container {\n",
              "      display:flex;\n",
              "      flex-wrap:wrap;\n",
              "      gap: 12px;\n",
              "    }\n",
              "\n",
              "    .colab-df-convert {\n",
              "      background-color: #E8F0FE;\n",
              "      border: none;\n",
              "      border-radius: 50%;\n",
              "      cursor: pointer;\n",
              "      display: none;\n",
              "      fill: #1967D2;\n",
              "      height: 32px;\n",
              "      padding: 0 0 0 0;\n",
              "      width: 32px;\n",
              "    }\n",
              "\n",
              "    .colab-df-convert:hover {\n",
              "      background-color: #E2EBFA;\n",
              "      box-shadow: 0px 1px 2px rgba(60, 64, 67, 0.3), 0px 1px 3px 1px rgba(60, 64, 67, 0.15);\n",
              "      fill: #174EA6;\n",
              "    }\n",
              "\n",
              "    [theme=dark] .colab-df-convert {\n",
              "      background-color: #3B4455;\n",
              "      fill: #D2E3FC;\n",
              "    }\n",
              "\n",
              "    [theme=dark] .colab-df-convert:hover {\n",
              "      background-color: #434B5C;\n",
              "      box-shadow: 0px 1px 3px 1px rgba(0, 0, 0, 0.15);\n",
              "      filter: drop-shadow(0px 1px 2px rgba(0, 0, 0, 0.3));\n",
              "      fill: #FFFFFF;\n",
              "    }\n",
              "  </style>\n",
              "\n",
              "      <script>\n",
              "        const buttonEl =\n",
              "          document.querySelector('#df-55a1c2ad-e41c-4fbb-b33a-622e9132c752 button.colab-df-convert');\n",
              "        buttonEl.style.display =\n",
              "          google.colab.kernel.accessAllowed ? 'block' : 'none';\n",
              "\n",
              "        async function convertToInteractive(key) {\n",
              "          const element = document.querySelector('#df-55a1c2ad-e41c-4fbb-b33a-622e9132c752');\n",
              "          const dataTable =\n",
              "            await google.colab.kernel.invokeFunction('convertToInteractive',\n",
              "                                                     [key], {});\n",
              "          if (!dataTable) return;\n",
              "\n",
              "          const docLinkHtml = 'Like what you see? Visit the ' +\n",
              "            '<a target=\"_blank\" href=https://colab.research.google.com/notebooks/data_table.ipynb>data table notebook</a>'\n",
              "            + ' to learn more about interactive tables.';\n",
              "          element.innerHTML = '';\n",
              "          dataTable['output_type'] = 'display_data';\n",
              "          await google.colab.output.renderOutput(dataTable, element);\n",
              "          const docLink = document.createElement('div');\n",
              "          docLink.innerHTML = docLinkHtml;\n",
              "          element.appendChild(docLink);\n",
              "        }\n",
              "      </script>\n",
              "    </div>\n",
              "  </div>\n",
              "  "
            ],
            "text/plain": [
              "      año  experiencia  modalidad             posicion  salario moneda  \\\n",
              "80   2023  Semi Senior  Full Time  Cientifico de datos   510000    HKD   \n",
              "156  2023  Semi Senior  Full Time  Cientifico de datos  1700000    INR   \n",
              "181  2023  Semi Senior  Full Time  Cientifico de datos    55000    GBP   \n",
              "182  2023  Semi Senior  Full Time  Cientifico de datos    45000    GBP   \n",
              "336  2023  Semi Senior  Full Time  Cientifico de datos    93918    USD   \n",
              "\n",
              "     salario_en_dolares localidad     esquema localidad_empresa tamaño_empresa  \n",
              "80                65062        HK  Presencial                HK              L  \n",
              "156               20670        IN      Remoto                IN              L  \n",
              "181               66837        GB  Presencial                GB              M  \n",
              "182               54685        GB  Presencial                GB              M  \n",
              "336               93918        US      Remoto                US              M  "
            ]
          },
          "execution_count": 10,
          "metadata": {},
          "output_type": "execute_result"
        }
      ],
      "source": [
        "datos_filtrados = datos[(datos.experiencia =='Semi Senior')&(datos.posicion=='Cientifico de datos')]\n",
        "datos_filtrados.head(5)"
      ]
    },
    {
      "attachments": {},
      "cell_type": "markdown",
      "metadata": {},
      "source": [
        "Agrupamos los datos"
      ]
    },
    {
      "cell_type": "code",
      "execution_count": null,
      "metadata": {
        "colab": {
          "base_uri": "https://localhost:8080/"
        },
        "id": "xeGHiRxH82Qe",
        "outputId": "79158ffc-4444-468c-c323-2ad88b9615ee"
      },
      "outputs": [
        {
          "name": "stdout",
          "output_type": "stream",
          "text": [
            "                                               min     max\n",
            "experiencia posicion                                      \n",
            "Executive   Analista de datos                15000  221000\n",
            "            Arquitecto de datos             155000  180000\n",
            "            Cientifico de datos             100000  258750\n",
            "            Ingeniero de datos              106500  310000\n",
            "            Lider de equipo                 106000  353200\n",
            "Junior      Analista de datos                21461  150000\n",
            "            Cientifico de Machine Learning   42923   42923\n",
            "            Cientifico de datos              51753  213660\n",
            "            Ingeniero de BI                  60000   60000\n",
            "            Ingeniero de Machine Learning    56536  300000\n",
            "            Ingeniero de datos               17022  220000\n",
            "            Investigador de datos           100000  220000\n",
            "Semi Senior Analista de datos                 9289  206000\n",
            "            Arquitecto de datos             106500  167500\n",
            "            Cientifico de Machine Learning  125000  230000\n",
            "            Cientifico de datos              17022  200000\n",
            "            Especialista en datos            80000  130000\n",
            "            Ingeniero de Machine Learning    20984  300000\n",
            "            Ingeniero de datos               48289  260000\n",
            "            Investigador de datos           102772  340000\n",
            "            Lider de equipo                  18238  155000\n",
            "Senior      Analista de BI                   71897  160000\n",
            "            Analista de datos                15806  289800\n",
            "            Arquitecto de datos              92000  376080\n",
            "            Cientifico de Machine Learning   90000  423834\n",
            "            Cientifico de datos              29453  317070\n",
            "            Data Strategist                  72000   90000\n",
            "            Ingeniero de BI                 129300  225000\n",
            "            Ingeniero de Machine Learning    50000  342300\n",
            "            Ingeniero de datos               50000  342810\n",
            "            Investigador de datos            94192  250000\n",
            "            Lider de equipo                  48000  299500\n",
            "            Modelador de datos               90700  147100\n"
          ]
        }
      ],
      "source": [
        "agrupados = datos.groupby(['experiencia', 'posicion']).salario_en_dolares.agg([min,max])\n",
        "print(agrupados)"
      ]
    },
    {
      "attachments": {},
      "cell_type": "markdown",
      "metadata": {
        "id": "IV3gjMcSyWLU"
      },
      "source": [
        "Ordenamos por salarios en orden descendente"
      ]
    },
    {
      "cell_type": "code",
      "execution_count": null,
      "metadata": {
        "id": "myLYY0UIyb-5"
      },
      "outputs": [],
      "source": [
        "salarios_ordenados = datos.sort_values(by=\"salario_en_dolares\", ascending=False)"
      ]
    },
    {
      "attachments": {},
      "cell_type": "markdown",
      "metadata": {
        "id": "Q5tYhR2LygRJ"
      },
      "source": [
        "Mostrar los cinco salarios mas altos"
      ]
    },
    {
      "cell_type": "code",
      "execution_count": null,
      "metadata": {
        "id": "R2C865DTyl9z"
      },
      "outputs": [],
      "source": [
        "salarios_mas_altos = salarios_ordenados.head(5)\n",
        "print(salarios_mas_altos)"
      ]
    },
    {
      "attachments": {},
      "cell_type": "markdown",
      "metadata": {},
      "source": [
        "### Visualizacion de datos"
      ]
    },
    {
      "attachments": {},
      "cell_type": "markdown",
      "metadata": {},
      "source": [
        "Graficamos los datos de experiencia y salario"
      ]
    },
    {
      "cell_type": "code",
      "execution_count": null,
      "metadata": {
        "colab": {
          "base_uri": "https://localhost:8080/"
        },
        "id": "khDjomKsYXpo",
        "outputId": "e2cd7116-8d8f-48b9-eedc-817eeb540423"
      },
      "outputs": [
        {
          "data": {
            "image/png": "[encoded data removed]",
            "text/plain": [
              "<Figure size 640x480 with 1 Axes>"
            ]
          },
          "metadata": {},
          "output_type": "display_data"
        }
      ],
      "source": [
        "datos_orden = datos.sort_values('salario_en_dolares', ascending=False)\n",
        "plt.bar(datos_orden['experiencia'], datos_orden['salario_en_dolares'])\n",
        "plt.xlabel('Experiencia')\n",
        "plt.ylabel('Salario')\n",
        "plt.title('Salario por experiencia')\n",
        "plt.show()"
      ]
    },
    {
      "attachments": {},
      "cell_type": "markdown",
      "metadata": {},
      "source": [
        "Gráfico de barras: Salario por posición"
      ]
    },
    {
      "cell_type": "code",
      "execution_count": null,
      "metadata": {
        "colab": {
          "base_uri": "https://localhost:8080/",
          "height": 765
        },
        "id": "d3smcrvjy-yG",
        "outputId": "19481473-34c1-4679-e67d-5e743e627fde"
      },
      "outputs": [
        {
          "data": {
            "image/png": "[encoded data removed]",
            "text/plain": [
              "<Figure size 1000x600 with 1 Axes>"
            ]
          },
          "metadata": {},
          "output_type": "display_data"
        }
      ],
      "source": [
        "plt.figure(figsize=(10, 6))\n",
        "plt.bar(datos['posicion'], datos['salario_en_dolares'])\n",
        "plt.xlabel('Posición')\n",
        "plt.ylabel('Salario_en_dolares')\n",
        "plt.title('Salario por posición')\n",
        "plt.xticks(rotation=90)\n",
        "plt.show()"
      ]
    },
    {
      "attachments": {},
      "cell_type": "markdown",
      "metadata": {},
      "source": [
        "Diagrama de caja: Salario por modalidad"
      ]
    },
    {
      "cell_type": "code",
      "execution_count": null,
      "metadata": {
        "colab": {
          "base_uri": "https://localhost:8080/",
          "height": 564
        },
        "id": "S7Uxx9eP0P12",
        "outputId": "242b2c18-23a2-41a0-e411-e6610bce8af4"
      },
      "outputs": [
        {
          "data": {
            "image/png": "[encoded data removed]",
            "text/plain": [
              "<Figure size 800x600 with 1 Axes>"
            ]
          },
          "metadata": {},
          "output_type": "display_data"
        }
      ],
      "source": [
        "plt.figure(figsize=(8, 6))\n",
        "plt.boxplot([datos[datos['esquema'] == 'Presencial']['salario_en_dolares'],\n",
        "             datos[datos['esquema'] == 'Hibrido']['salario_en_dolares'],\n",
        "             datos[datos['esquema'] == 'Remoto']['salario_en_dolares']],\n",
        "            labels=['Presencial', 'Híbrido', 'Remoto'])\n",
        "plt.xlabel('Presencialidad')\n",
        "plt.ylabel('Salario en dolares')\n",
        "plt.title('Salario por presencialidad')\n",
        "plt.show()"
      ]
    }
  ],
  "metadata": {
    "colab": {
      "include_colab_link": true,
      "provenance": []
    },
    "kernelspec": {
      "display_name": "Python 3",
      "name": "python3"
    },
    "language_info": {
      "name": "python"
    }
  },
  "nbformat": 4,
  "nbformat_minor": 0
}
